{
 "cells": [
  {
   "cell_type": "markdown",
   "id": "62923ad2",
   "metadata": {},
   "source": [
    "Question 1\n",
    "Consider the following Python module:\n",
    "a = 0\n",
    "def b():\n",
    " global a\n",
    " a = c(a)\n",
    "def c(a):\n",
    " return a + 2\n",
    "After importing the module into the interpreter, you execute:\n",
    ">>> b()\n",
    ">>> b()\n",
    ">>> b()\n",
    ">>> a\n",
    "?\n",
    "What value is displayed when the last expression (a) is evaluated? Explain your \n",
    "answer by indicating what happens in every executed statement"
   ]
  },
  {
   "cell_type": "code",
   "execution_count": 3,
   "id": "97966c3a",
   "metadata": {},
   "outputs": [
    {
     "name": "stdout",
     "output_type": "stream",
     "text": [
      "updated value of a =  6\n"
     ]
    }
   ],
   "source": [
    "a = 0       #creates \"a\" variable\n",
    "def b():    #defines function b()\n",
    " global a   #creates a global variable \"a\"\n",
    " a = c(a)   #calls another function c(a) and storing the value of c(a) in a\n",
    "\n",
    "def c(a):   #defines another function c(a)\n",
    " return a + 2   #returns value a+2 to the function\n",
    "\n",
    "b()     #calls the function b() for the first time with initial value of a=0 which update value of a to 2\n",
    "b()     #calls the function b() for the second time with new value of a=2  which updates value of a to 4\n",
    "b()     #calls the function b() for the third time with latest value pf a=4 which updates value of a to 6\n",
    "a       #stores the latest updated value of a\n",
    "print(\"updated value of a = \",a)    #prints the latest updated value of 'a' which in 6 in this case"
   ]
  },
  {
   "cell_type": "markdown",
   "id": "8bcbd964",
   "metadata": {},
   "source": [
    "Question 2\n",
    "Function fileLength(), given to you, takes the name of a file as input and returns \n",
    "the length of the file:\n",
    ">>> fileLength('midterm.py')\n",
    "284\n",
    ">>> fileLength('idterm.py')\n",
    "Traceback (most recent call last):\n",
    "File \"<pyshell#34>\", line 1, in <module>\n",
    " fileLength('idterm.py')\n",
    "File \"/Users/me/midterm.py\", line 3, in fileLength\n",
    " infile = open(filename)\n",
    "FileNotFoundError: [Errno 2] No such file or directory: \n",
    "'idterm.py'\n",
    "As shown above, if the file cannot be found by the interpreter or if it cannot be read \n",
    "as a text file, an exception will be raised. Modify function fileLength() so that a \n",
    "friendly message is printed instead:\n",
    ">>> fileLength('midterm.py')\n",
    "358\n",
    ">>> fileLength('idterm.py')\n",
    "File idterm.py not found."
   ]
  },
  {
   "cell_type": "code",
   "execution_count": null,
   "id": "53283365",
   "metadata": {},
   "outputs": [],
   "source": []
  },
  {
   "cell_type": "code",
   "execution_count": 2,
   "id": "1644bff9",
   "metadata": {},
   "outputs": [
    {
     "name": "stdout",
     "output_type": "stream",
     "text": [
      "checking file midterm.py present or not...\n",
      "\n",
      "File C:\\Users\\Shrushti\\Desktop\\midterm.py is found...!\n",
      "\n",
      "the file length =  15\n",
      "None\n",
      "checking if file idterm.py is present or not...\n",
      "\n",
      "error...! file idterm.py not found..!\n"
     ]
    }
   ],
   "source": [
    "def file_length(file_name):\n",
    "    try:\n",
    "        file = open(file_name)\n",
    "        contents = file.read()\n",
    "        file.close()\n",
    "        print(\"File \"+file_name+\" is found...!\")\n",
    "        print(\"\\nthe file length = \",len(contents))\n",
    "    except FileNotFoundError:\n",
    "        return \"error...! file \"+file_name+\" not found..!\"\n",
    "\n",
    "#if file is present in the folder :\n",
    "print(\"checking file midterm.py present or not...\\n\")\n",
    "print(file_length('C:\\\\Users\\\\Shrushti\\\\Desktop\\\\midterm.py'))\n",
    "\n",
    "#if file is not present in  the folder :\n",
    "print(\"checking if file idterm.py is present or not...\\n\")\n",
    "print(file_length('idterm.py'))"
   ]
  },
  {
   "cell_type": "markdown",
   "id": "e7a171df",
   "metadata": {},
   "source": [
    "3) Write a class named Marsupial that can be used as shown below:\n",
    ">>> m = Marsupial()\n",
    ">>> m.put_in_pouch('doll')\n",
    ">>> m.put_in_pouch('firetruck')\n",
    ">>> m.put_in_pouch('kitten')\n",
    ">>> m.pouch_contents()\n",
    "['doll', 'firetruck', 'kitten']\n",
    "Now write a class named Kangaroo as a subclass of Marsupial that inherits all the \n",
    "attributes of Marsupial and also:\n",
    "a. extends the Marsupial __init__ constructor to take, as input, the \n",
    "coordinates x and y of the Kangaroo object,\n",
    "b. supports method jump that takes number values dx and dy as input and \n",
    "moves the kangaroo by dx units along the x-axis and by dy units along the y\u0002axis, and\n",
    "c. overloads the __str__ operator so it behaves as shown below.\n",
    ">>> k = Kangaroo(0,0)\n",
    ">>> print(k)\n",
    "I am a Kangaroo located at coordinates (0,0)\n",
    ">>> k.put_in_pouch('doll')\n",
    ">>> k.put_in_pouch('firetruck')\n",
    ">>> k.put_in_pouch('kitten')\n",
    ">>> k.pouch_contents()\n",
    "['doll', 'firetruck', 'kitten']\n",
    ">>> k.jump(1,0)\n",
    ">>> k.jump(1,0)\n",
    ">>> k.jump(1,0)\n",
    ">>> print(k)\n",
    "I am a Kangaroo located at coordinates (3,0)"
   ]
  },
  {
   "cell_type": "code",
   "execution_count": 4,
   "id": "3b7e049e",
   "metadata": {},
   "outputs": [
    {
     "name": "stdout",
     "output_type": "stream",
     "text": [
      "class Marsupial contains : ['doll', 'firetruck', 'kitten']\n",
      "I am a Kangaroo located at coordinates (0,0)\n",
      "\n",
      "subclass kangaroo contains :  ['doll', 'firetruck', 'kitten', 'doll', 'firetruck', 'kitten']\n",
      "I am a Kangaroo located at coordinates (3,0)\n",
      "\n"
     ]
    }
   ],
   "source": [
    "class Marsupial:\n",
    "    lst=[]\n",
    "    def init(self): \n",
    "        self.lst = []\n",
    "        \n",
    "    def put_in_pouch(self, item):\n",
    "        self.lst.append(item)\n",
    "        \n",
    "    def pouch_contents(self):\n",
    "        return self.lst\n",
    "\n",
    "class Kangaroo(Marsupial):\n",
    "\n",
    "    def __init__(self,x,y):\n",
    "\n",
    "            Marsupial.__init__(self)\n",
    "\n",
    "            self.x = x\n",
    "\n",
    "            self.y = y\n",
    "\n",
    "    def jump(self,dx,dy):\n",
    "\n",
    "        self.x += dx\n",
    "\n",
    "        self.y += dy\n",
    "\n",
    "    def __str__(self):\n",
    "\n",
    "        return 'I am a Kangaroo located at coordinates ({},{})'.format(self.x,self.y)+'\\n'\n",
    "\n",
    "m = Marsupial() \n",
    "m.put_in_pouch('doll') \n",
    "m.put_in_pouch('firetruck') \n",
    "m.put_in_pouch('kitten') \n",
    "print(\"class Marsupial contains :\",m.pouch_contents())\n",
    "k = Kangaroo(0,0) \n",
    "print(k) \n",
    "k.put_in_pouch('doll')\n",
    "k.put_in_pouch('firetruck') \n",
    "k.put_in_pouch('kitten') \n",
    "print(\"subclass kangaroo contains : \",k.pouch_contents()) \n",
    "k.jump(1,0) \n",
    "k.jump(1,0)\n",
    "k.jump(1,0)\n",
    "print(k)"
   ]
  },
  {
   "cell_type": "markdown",
   "id": "1be9b8d5",
   "metadata": {},
   "source": [
    "Question 4\n",
    "Write function collatz() that takes a positive integer x as input and prints the \n",
    "Collatz sequence starting at x. A Collatz sequence is obtained by repeatedly applying \n",
    "this rule to the previous number x in the sequence:\n",
    "x = {\n",
    "𝑥/2 𝑖𝑓 𝑥 𝑖𝑠 𝑒𝑣𝑒𝑛\n",
    "3𝑥 + 1 𝑖𝑓 𝑥 𝑖𝑠 𝑜𝑑𝑑\n",
    "Your function should stop when the sequence gets to number 1. Your \n",
    "implementation must be recursive, without any loops\n",
    ">>> collatz(1)\n",
    "1\n",
    ">>> collatz(10)\n",
    "10\n",
    "5\n",
    "16\n",
    "8\n",
    "4\n",
    "2\n",
    "1"
   ]
  },
  {
   "cell_type": "code",
   "execution_count": null,
   "id": "94d0df0e",
   "metadata": {},
   "outputs": [],
   "source": []
  },
  {
   "cell_type": "code",
   "execution_count": 2,
   "id": "0c19343f",
   "metadata": {},
   "outputs": [
    {
     "name": "stdout",
     "output_type": "stream",
     "text": [
      "enter any number to get collatz sequence : 10\n",
      "10\n",
      "5\n",
      "16\n",
      "8\n",
      "4\n",
      "2\n",
      "1\n"
     ]
    }
   ],
   "source": [
    "def collatz(x):\n",
    "    #print value of x \n",
    "    print(x)\n",
    "    if x==1:\n",
    "        return\n",
    "    elif x%2==0:\n",
    "        return collatz(x//2)  #call method recursively\n",
    "    else:\n",
    "        return collatz((x*3)+1)  #call method recursively\n",
    "\n",
    "x=int(input(\"enter any number to get collatz sequence : \"))\n",
    "collatz(x)"
   ]
  },
  {
   "cell_type": "code",
   "execution_count": null,
   "id": "03c7b40c",
   "metadata": {},
   "outputs": [],
   "source": []
  },
  {
   "cell_type": "markdown",
   "id": "12abf698",
   "metadata": {},
   "source": [
    "5}\n",
    "Write a recursive method binary() that takes a non-negative \n",
    "integer n and prints the binary representation of integer n.\n",
    ">>> binary(0)\n",
    "0\n",
    ">>> binary(1)\n",
    "1\n",
    ">>> binary(3)\n",
    "11\n",
    ">>> binary(9)\n",
    "1001\n"
   ]
  },
  {
   "cell_type": "code",
   "execution_count": 20,
   "id": "dccc27d5",
   "metadata": {},
   "outputs": [
    {
     "name": "stdout",
     "output_type": "stream",
     "text": [
      "enter any integer to get its binary representation of integer : 10\n",
      "in binary :  1010\n"
     ]
    }
   ],
   "source": [
    "def binary( n ):\n",
    "    if n == 0:\n",
    "        return 0\n",
    "    elif n < 0:\n",
    "        return possitive\n",
    "    else:\n",
    "       \n",
    "        return  n % 2 + 10 * binary(int(n // 2))\n",
    "\n",
    "def possitive():\n",
    "    print(\"type possitive number\")\n",
    "    \n",
    "n = int(input(\"enter any integer to get its binary representation of integer : \"))\n",
    "print(\"in binary : \",binary(n))"
   ]
  },
  {
   "cell_type": "code",
   "execution_count": null,
   "id": "1229f335",
   "metadata": {},
   "outputs": [],
   "source": [
    "Question 6\n",
    "Implement a class named HeadingParser that can be used to parse an HTML \n",
    "document, and retrieve and print all the headings in the document. You should \n",
    "implement your class as a subclass of HTMLParser, defined in Standard Library \n",
    "module html.parser. When fed a string containing HTML code, your class should \n",
    "print the headings, one per line and in the order in which they appear in the \n",
    "document. Each heading should be indented as follows: an h1 heading should have \n"
   ]
  },
  {
   "cell_type": "code",
   "execution_count": 31,
   "id": "3492f83b",
   "metadata": {},
   "outputs": [
    {
     "name": "stdout",
     "output_type": "stream",
     "text": [
      "W3C Mission\n",
      "\n",
      "\t\n",
      " Principles\n",
      " \n",
      " \n",
      "\n",
      "\n",
      "\n",
      " \n",
      "\n"
     ]
    }
   ],
   "source": [
    "import re\n",
    "from html.parser import HTMLParser\n",
    "infile = open(r\"C:\\Users\\Shrushti\\Desktop\\w3c.html\") \n",
    "content = infile.read() \n",
    "infile.close()\n",
    "\n",
    "class HeadingParser(HTMLParser):\n",
    "    def handle_starttag(self, tag, attrs):\n",
    "        global getHeading\n",
    "        match = re.match(r'h(\\d)', tag, re.I) \n",
    "        if match: getHeading = int(match.group(1))\n",
    "            \n",
    "    def handle_endtag(self, tag):\n",
    "        match = re.match(r'h(\\d)', tag, re.I)\n",
    "        if match: getHeading = 0\n",
    "\n",
    "    def handle_data(self, data):\n",
    "        if getHeading > 0:\n",
    "            tab = getHeading - 1\n",
    "            out = \" \"*tab\n",
    "            print(out+data)\n",
    "            \n",
    "getHeading = 0\n",
    "hp = HeadingParser()\n",
    "hp.feed(content)"
   ]
  },
  {
   "cell_type": "markdown",
   "id": "937add4b",
   "metadata": {},
   "source": [
    "Question 8\n",
    "Write SQL queries on the below database table that return: \n",
    "a) All the temperature data.\n",
    "b) All the cities, but without repetition.\n",
    "c) All the records for India.\n",
    "d) All the Fall records.\n",
    "e) The city, country, and season for which the average rainfall is between 200 \n",
    "and 400 millimeters.\n",
    "f) The city and country for which the average Fall temperature is above 20 \n",
    "degrees, in increasing temperature order.\n",
    "g) The total annual rainfall for Cairo.\n",
    "h) The total rainfall for each season.\n",
    "City Country Season Temperature \n",
    "(C)\n",
    "Rainfall \n",
    "(mm)\n"
   ]
  },
  {
   "cell_type": "code",
   "execution_count": null,
   "id": "40aa688d",
   "metadata": {},
   "outputs": [],
   "source": [
    "%%sql\n",
    "select Temperature from weatherTable"
   ]
  },
  {
   "cell_type": "code",
   "execution_count": null,
   "id": "36a9f0d9",
   "metadata": {},
   "outputs": [],
   "source": [
    "%%sql\n",
    "select DISTINCT City from weatherTable"
   ]
  },
  {
   "cell_type": "code",
   "execution_count": null,
   "id": "9190823c",
   "metadata": {},
   "outputs": [],
   "source": [
    "\n",
    "%%sql\n",
    "select * from weatherTable where Country='India'"
   ]
  },
  {
   "cell_type": "code",
   "execution_count": null,
   "id": "bf6c9960",
   "metadata": {},
   "outputs": [],
   "source": [
    "%%sql\n",
    "select * from weatherTable where Season='Fall'"
   ]
  },
  {
   "cell_type": "code",
   "execution_count": null,
   "id": "98a628cd",
   "metadata": {},
   "outputs": [],
   "source": [
    "%%sql\n",
    "SELECT  City, Country, Season, AVG(Rainfall) FROM weatherTable \n",
    "GROUP BY Rainfall\n",
    "Having AVG(Rainfall) BETWEEN 200 AND 400;"
   ]
  },
  {
   "cell_type": "code",
   "execution_count": null,
   "id": "21d2a216",
   "metadata": {},
   "outputs": [],
   "source": [
    "%%sql\n",
    "select City, Country, AVG(Temperature) FROM weatherTable\n",
    "WHERE Season = 'Fall'  \n",
    "group by Temperature\n",
    "HAVING AVG(Temperature) > 20\n",
    "ORDER BY AVG(Temperature) ASC;"
   ]
  },
  {
   "cell_type": "code",
   "execution_count": null,
   "id": "5c4bda69",
   "metadata": {},
   "outputs": [],
   "source": [
    "\n",
    "%%sql\n",
    "select City, SUM(Rainfall) FROM weatherTable where City='Cairo'\n"
   ]
  },
  {
   "cell_type": "code",
   "execution_count": null,
   "id": "294ed7cd",
   "metadata": {},
   "outputs": [],
   "source": [
    "%%sql\n",
    "select Season, SUM(Rainfall) FROM weatherTable\n",
    "group by Season"
   ]
  },
  {
   "cell_type": "markdown",
   "id": "45ce70b1",
   "metadata": {},
   "source": [
    "Question 9\n",
    ". Suppose list words is defined as follows:\n",
    ">>> words = ['The', 'quick', 'brown', 'fox', 'jumps', 'over', \n",
    "'the', 'lazy', 'dog']\n",
    "Write list comprehension expressions that use list words and generate the following \n",
    "lists:\n",
    "a) ['THE', 'QUICK', 'BROWN', 'FOX', 'JUMPS', 'OVER', 'THE', \n",
    "'LAZY', 'DOG']\n",
    "b) ['the', 'quick', 'brown', 'fox', 'jumps', 'over', 'the', \n",
    "'lazy', 'dog']\n",
    "c) [3, 5, 5, 3, 5, 4, 3, 4, 3] (the list of lengths of words in list \n",
    "words).\n",
    "d) [['THE', 'the', 3], ['QUICK', 'quick', 5], ['BROWN', \n",
    "'brown', 5], ['FOX', 'fox', 3], ['JUMPS', 'jumps', 5], \n",
    "['OVER', 'over', 4], ['THE', 'the', 3], ['LAZY', 'lazy', \n",
    "4], ['DOG', 'dog', 3]] (the list containing a list for every word of list \n",
    "words, where each list contains the word in uppercase and lowercase and the \n",
    "length of the word.)\n",
    "e) ['The', 'quick', 'brown', 'fox', 'jumps', 'over', 'the', \n",
    "'lazy', 'dog'] (the list of words in list words containing 4 or more \n",
    "characters."
   ]
  },
  {
   "cell_type": "code",
   "execution_count": 38,
   "id": "66f1add5",
   "metadata": {},
   "outputs": [
    {
     "name": "stdout",
     "output_type": "stream",
     "text": [
      "Ans a).\n",
      " ['THE', 'QUICK', 'BROWN', 'FOX', 'JUMPS', 'OVER', 'THE', 'LAZY', 'DOG']\n",
      "Ans b).\n",
      " ['the', 'quick', 'brown', 'fox', 'jumps', 'over', 'the', 'lazy', 'dog']\n",
      "Ans c).\n",
      " [3, 5, 5, 3, 5, 4, 3, 4, 3]\n",
      "Ans d).\n",
      " [['THE', 'the', 3], ['QUICK', 'quick', 5], ['BROWN', 'brown', 5], ['FOX', 'fox', 3], ['JUMPS', 'jumps', 5], ['OVER', 'over', 4], ['THE', 'the', 3], ['LAZY', 'lazy', 4], ['DOG', 'dog', 3]]\n",
      "Ans e).\n",
      " ['quick', 'brown', 'jumps', 'over', 'lazy']\n"
     ]
    }
   ],
   "source": [
    "words = [\"The\", \"quick\", \"brown\", \"fox\", \"jumps\", \"over\", \"the\", \"lazy\", \"dog\"]\n",
    "\n",
    "upperwords = [word.upper() for word in words]\n",
    "print(\"Ans a).\\n\",UpperWords)\n",
    "\n",
    "\n",
    "\n",
    "lowerwords = [word.lower() for word in words]\n",
    "print(\"Ans b).\\n\",LowerWords)\n",
    "\n",
    "\n",
    "\n",
    "LengthWords = []\n",
    "for word in words:\n",
    "    LengthWords.append(len(word))     \n",
    "print(\"Ans c).\\n\",LengthWords)\n",
    "\n",
    "\n",
    "\n",
    "initializeCounterValue = 0\n",
    "single_List_Array = []\n",
    "for j in words:\n",
    "    single_List_Array.append(UpperWords[initializeCounterValue])\n",
    "    single_List_Array.append(LowerWords[initializeCounterValue])\n",
    "    single_List_Array.append(LengthWords[initializeCounterValue])\n",
    "    initializeCounterValue = initializeCounterValue + 1\n",
    "\n",
    "delimiterVariableLimit = 3\n",
    "resultArray = [single_List_Array[additor:additor+delimiterVariableLimit] for additor in range(0, len(single_List_Array), delimiterVariableLimit)]\n",
    "print(\"Ans d).\\n\",resultArray)\n",
    "\n",
    "\n",
    "\n",
    "def wordString(k, str):    \n",
    "    string = []     \n",
    "    text = str.split(\" \")     \n",
    "    for x in text:         \n",
    "        if len(x) >= k:            \n",
    "            string.append(x)             \n",
    "    return string\n",
    "    \n",
    "result_list = [''.join([str(c) for c in lst]) for lst in words]\n",
    "result_string = ' '.join(result_list)\n",
    "requiredCharacterLength = 4\n",
    "print(\"Ans e).\\n\",wordString(requiredCharacterLength, result_string))"
   ]
  },
  {
   "cell_type": "code",
   "execution_count": null,
   "id": "072a098a",
   "metadata": {},
   "outputs": [],
   "source": []
  }
 ],
 "metadata": {
  "kernelspec": {
   "display_name": "Python 3 (ipykernel)",
   "language": "python",
   "name": "python3"
  },
  "language_info": {
   "codemirror_mode": {
    "name": "ipython",
    "version": 3
   },
   "file_extension": ".py",
   "mimetype": "text/x-python",
   "name": "python",
   "nbconvert_exporter": "python",
   "pygments_lexer": "ipython3",
   "version": "3.9.12"
  }
 },
 "nbformat": 4,
 "nbformat_minor": 5
}
